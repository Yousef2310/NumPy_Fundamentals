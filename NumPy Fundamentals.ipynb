{
 "cells": [
  {
   "cell_type": "markdown",
   "id": "b2001206",
   "metadata": {},
   "source": [
    "### Import NumPy"
   ]
  },
  {
   "cell_type": "code",
   "execution_count": 2,
   "id": "69cac71a",
   "metadata": {},
   "outputs": [],
   "source": [
    "import numpy as np \n",
    "import pandas as pd"
   ]
  },
  {
   "cell_type": "markdown",
   "id": "7b2e0287",
   "metadata": {},
   "source": [
    "### Basics "
   ]
  },
  {
   "cell_type": "code",
   "execution_count": 4,
   "id": "ff14f897",
   "metadata": {},
   "outputs": [
    {
     "name": "stdout",
     "output_type": "stream",
     "text": [
      "[1 2 3]\n"
     ]
    }
   ],
   "source": [
    "a = np.array([1,2,3,])\n",
    "print(a)"
   ]
  },
  {
   "cell_type": "code",
   "execution_count": 7,
   "id": "aeae2893",
   "metadata": {},
   "outputs": [
    {
     "name": "stdout",
     "output_type": "stream",
     "text": [
      "[[  23.   10. 2003.]\n",
      " [  17.    9. 2000.]]\n"
     ]
    }
   ],
   "source": [
    "b = np.array([[23.0,10.0,2003.0],[17.0,9.0,2000.0]])\n",
    "print(b)"
   ]
  },
  {
   "cell_type": "markdown",
   "id": "27f38c90",
   "metadata": {},
   "source": [
    "#### Get (np.array) Dimension "
   ]
  },
  {
   "cell_type": "code",
   "execution_count": 11,
   "id": "76beea4f",
   "metadata": {},
   "outputs": [
    {
     "data": {
      "text/plain": [
       "1"
      ]
     },
     "execution_count": 11,
     "metadata": {},
     "output_type": "execute_result"
    }
   ],
   "source": [
    "a.ndim"
   ]
  },
  {
   "cell_type": "code",
   "execution_count": 10,
   "id": "62d00ae6",
   "metadata": {},
   "outputs": [
    {
     "data": {
      "text/plain": [
       "2"
      ]
     },
     "execution_count": 10,
     "metadata": {},
     "output_type": "execute_result"
    }
   ],
   "source": [
    "b.ndim"
   ]
  },
  {
   "cell_type": "markdown",
   "id": "6630792f",
   "metadata": {},
   "source": [
    "#### Get (np.array) Shape "
   ]
  },
  {
   "cell_type": "code",
   "execution_count": 12,
   "id": "8e975e24",
   "metadata": {},
   "outputs": [
    {
     "data": {
      "text/plain": [
       "(3,)"
      ]
     },
     "execution_count": 12,
     "metadata": {},
     "output_type": "execute_result"
    }
   ],
   "source": [
    "a.shape"
   ]
  },
  {
   "cell_type": "code",
   "execution_count": 13,
   "id": "d2fc6383",
   "metadata": {},
   "outputs": [
    {
     "data": {
      "text/plain": [
       "(2, 3)"
      ]
     },
     "execution_count": 13,
     "metadata": {},
     "output_type": "execute_result"
    }
   ],
   "source": [
    "b.shape"
   ]
  },
  {
   "cell_type": "markdown",
   "id": "d583112e",
   "metadata": {},
   "source": [
    "#### Get (np.array) Data Type "
   ]
  },
  {
   "cell_type": "code",
   "execution_count": 14,
   "id": "b0622b5e",
   "metadata": {},
   "outputs": [
    {
     "data": {
      "text/plain": [
       "dtype('int32')"
      ]
     },
     "execution_count": 14,
     "metadata": {},
     "output_type": "execute_result"
    }
   ],
   "source": [
    "a.dtype"
   ]
  },
  {
   "cell_type": "code",
   "execution_count": 15,
   "id": "f50f4347",
   "metadata": {},
   "outputs": [
    {
     "data": {
      "text/plain": [
       "dtype('float64')"
      ]
     },
     "execution_count": 15,
     "metadata": {},
     "output_type": "execute_result"
    }
   ],
   "source": [
    "b.dtype"
   ]
  },
  {
   "cell_type": "markdown",
   "id": "744456c7",
   "metadata": {},
   "source": [
    "### Accessing/Changing specific elements, rows, columns, etc"
   ]
  },
  {
   "cell_type": "code",
   "execution_count": 16,
   "id": "c5c699b3",
   "metadata": {},
   "outputs": [
    {
     "name": "stdout",
     "output_type": "stream",
     "text": [
      "[[ 1  2  3  4  5  6  7]\n",
      " [ 8  9 10 11 12 13 14]]\n"
     ]
    }
   ],
   "source": [
    "a = np.array([[1,2,3,4,5,6,7],[8,9,10,11,12,13,14]])\n",
    "print(a)"
   ]
  },
  {
   "cell_type": "markdown",
   "id": "9ec2635d",
   "metadata": {},
   "source": [
    "#### Get a specific element [r, c]"
   ]
  },
  {
   "cell_type": "code",
   "execution_count": 18,
   "id": "234217cd",
   "metadata": {},
   "outputs": [
    {
     "data": {
      "text/plain": [
       "13"
      ]
     },
     "execution_count": 18,
     "metadata": {},
     "output_type": "execute_result"
    }
   ],
   "source": [
    "# Get 13 from the array \n",
    "a[1, -2]\n",
    "a[1, 5]"
   ]
  },
  {
   "cell_type": "code",
   "execution_count": 20,
   "id": "56d33d1d",
   "metadata": {},
   "outputs": [
    {
     "data": {
      "text/plain": [
       "array([1, 2, 3, 4, 5, 6, 7])"
      ]
     },
     "execution_count": 20,
     "metadata": {},
     "output_type": "execute_result"
    }
   ],
   "source": [
    "# Get a entire first row \n",
    "a[0, :]"
   ]
  },
  {
   "cell_type": "code",
   "execution_count": 22,
   "id": "c2db8fa9",
   "metadata": {},
   "outputs": [
    {
     "data": {
      "text/plain": [
       "array([ 5, 12])"
      ]
     },
     "execution_count": 22,
     "metadata": {},
     "output_type": "execute_result"
    }
   ],
   "source": [
    "# Get a entire fifth row \n",
    "a[:, -3]\n",
    "a[:, 4]"
   ]
  },
  {
   "cell_type": "code",
   "execution_count": 24,
   "id": "657326a6",
   "metadata": {},
   "outputs": [
    {
     "name": "stdout",
     "output_type": "stream",
     "text": [
      "[[ 1  2  3  4  5  6  7]\n",
      " [ 8  9 10 11 12 13 14]]\n"
     ]
    }
   ],
   "source": [
    "print(a)"
   ]
  },
  {
   "cell_type": "code",
   "execution_count": 26,
   "id": "12bc09d1",
   "metadata": {},
   "outputs": [
    {
     "data": {
      "text/plain": [
       "array([2, 4, 6])"
      ]
     },
     "execution_count": 26,
     "metadata": {},
     "output_type": "execute_result"
    }
   ],
   "source": [
    "# More complex indexing [start:end:stepsize]\n",
    "# Ex: Get every even number between (2,6)\n",
    "\n",
    "a[0, 1:6:2]"
   ]
  },
  {
   "cell_type": "code",
   "execution_count": 28,
   "id": "f53f3473",
   "metadata": {},
   "outputs": [
    {
     "data": {
      "text/plain": [
       "array([ 9, 11, 13])"
      ]
     },
     "execution_count": 28,
     "metadata": {},
     "output_type": "execute_result"
    }
   ],
   "source": [
    "# Ex: Get every odd number from the second row \n",
    "\n",
    "a[1,1:-1:2]"
   ]
  },
  {
   "cell_type": "markdown",
   "id": "587346e3",
   "metadata": {},
   "source": [
    "#### Change a specific element"
   ]
  },
  {
   "cell_type": "code",
   "execution_count": 29,
   "id": "2b1c7e96",
   "metadata": {},
   "outputs": [
    {
     "name": "stdout",
     "output_type": "stream",
     "text": [
      "[[  1   2   3   4   5   6   7]\n",
      " [  8   9  10  11  12 155  14]]\n"
     ]
    }
   ],
   "source": [
    "# Set the 4th element of second row to (155)\n",
    "\n",
    "a[1,5] = 155\n",
    "print(a)"
   ]
  },
  {
   "cell_type": "code",
   "execution_count": 42,
   "id": "4c84b9fc",
   "metadata": {},
   "outputs": [
    {
     "name": "stdout",
     "output_type": "stream",
     "text": [
      "[[ 17  23   3   5   5   6   7]\n",
      " [  9  10  10   5  12 155  14]]\n"
     ]
    }
   ],
   "source": [
    "# Change an entire specific column values \n",
    "# Set the 1st column values to (17,9)\n",
    "a[:,0] = [17,9]\n",
    "print(a)"
   ]
  },
  {
   "cell_type": "code",
   "execution_count": 43,
   "id": "35e749b0",
   "metadata": {},
   "outputs": [
    {
     "name": "stdout",
     "output_type": "stream",
     "text": [
      "[[ 17  23   3   5   5   6   7]\n",
      " [  9  10  10   5  12 155  14]]\n"
     ]
    }
   ],
   "source": [
    "# Set the 2nd column values to (3,4)\n",
    "a[:,1] = [23,10]\n",
    "print(a)"
   ]
  },
  {
   "cell_type": "markdown",
   "id": "df0d3f60",
   "metadata": {},
   "source": [
    "### 3D Example "
   ]
  },
  {
   "cell_type": "code",
   "execution_count": 51,
   "id": "6f01a244",
   "metadata": {},
   "outputs": [
    {
     "name": "stdout",
     "output_type": "stream",
     "text": [
      "[[[ 1  2  3  4]\n",
      "  [ 5  6  7  8]]\n",
      "\n",
      " [[ 9 10 11 12]\n",
      "  [13 14 15 16]]]\n"
     ]
    }
   ],
   "source": [
    "b = np.array([[[1,2,3,4],[5,6,7,8]],[[9,10,11,12], [13,14,15,16]]])\n",
    "print(b)"
   ]
  },
  {
   "cell_type": "code",
   "execution_count": 52,
   "id": "2665b6ed",
   "metadata": {},
   "outputs": [
    {
     "data": {
      "text/plain": [
       "3"
      ]
     },
     "execution_count": 52,
     "metadata": {},
     "output_type": "execute_result"
    }
   ],
   "source": [
    "b.ndim"
   ]
  },
  {
   "cell_type": "code",
   "execution_count": 55,
   "id": "a6231aba",
   "metadata": {},
   "outputs": [
    {
     "data": {
      "text/plain": [
       "15"
      ]
     },
     "execution_count": 55,
     "metadata": {},
     "output_type": "execute_result"
    }
   ],
   "source": [
    "# Get a specific element (work outside in) index: [Which set do you want, Which Row, element]\n",
    "# Get the before last element for the second set \n",
    "\n",
    "b[1,1,-2]"
   ]
  },
  {
   "cell_type": "code",
   "execution_count": 57,
   "id": "56dad70f",
   "metadata": {},
   "outputs": [
    {
     "data": {
      "text/plain": [
       "2"
      ]
     },
     "execution_count": 57,
     "metadata": {},
     "output_type": "execute_result"
    }
   ],
   "source": [
    "# Get the very second element from the first set \n",
    "b[0,0,1]"
   ]
  },
  {
   "cell_type": "code",
   "execution_count": 61,
   "id": "c892ad17",
   "metadata": {},
   "outputs": [
    {
     "data": {
      "text/plain": [
       "7"
      ]
     },
     "execution_count": 61,
     "metadata": {},
     "output_type": "execute_result"
    }
   ],
   "source": [
    "# Get the third element from the second row from the first set \n",
    "b[0,1,2]"
   ]
  },
  {
   "cell_type": "code",
   "execution_count": 64,
   "id": "2ddad74d",
   "metadata": {},
   "outputs": [
    {
     "data": {
      "text/plain": [
       "array([[1, 2, 3, 4],\n",
       "       [5, 6, 7, 8]])"
      ]
     },
     "execution_count": 64,
     "metadata": {},
     "output_type": "execute_result"
    }
   ],
   "source": [
    "# Get an entire set from the array \n",
    "b[0,:,:]"
   ]
  },
  {
   "cell_type": "code",
   "execution_count": 65,
   "id": "eab72732",
   "metadata": {},
   "outputs": [
    {
     "data": {
      "text/plain": [
       "array([ 9, 10, 11, 12])"
      ]
     },
     "execution_count": 65,
     "metadata": {},
     "output_type": "execute_result"
    }
   ],
   "source": [
    "# Get an entire row from the set \n",
    "b[1,0,:]"
   ]
  },
  {
   "cell_type": "code",
   "execution_count": 66,
   "id": "98679e8e",
   "metadata": {},
   "outputs": [
    {
     "data": {
      "text/plain": [
       "array([11, 15])"
      ]
     },
     "execution_count": 66,
     "metadata": {},
     "output_type": "execute_result"
    }
   ],
   "source": [
    "# Get an entire column from the set \n",
    "b[1,:,2]"
   ]
  },
  {
   "cell_type": "code",
   "execution_count": 70,
   "id": "529cb5c4",
   "metadata": {},
   "outputs": [
    {
     "data": {
      "text/plain": [
       "array([[[ 1,  2,  3,  4],\n",
       "        [ 5,  6,  7,  8]],\n",
       "\n",
       "       [[17,  9, 23, 10],\n",
       "        [13, 14, 15, 16]]])"
      ]
     },
     "execution_count": 70,
     "metadata": {},
     "output_type": "execute_result"
    }
   ],
   "source": [
    "# Replace values\n",
    "# Replace First Row - Second Set = [17,9,23,10]\n",
    "b[1,0,:] = [17,9,23,10]\n",
    "b"
   ]
  },
  {
   "cell_type": "markdown",
   "id": "eb2c5181",
   "metadata": {},
   "source": [
    "### Initializing Different Types of Arrays "
   ]
  },
  {
   "cell_type": "code",
   "execution_count": 72,
   "id": "f2a258e7",
   "metadata": {},
   "outputs": [
    {
     "data": {
      "text/plain": [
       "array([[0., 0., 0.],\n",
       "       [0., 0., 0.],\n",
       "       [0., 0., 0.]])"
      ]
     },
     "execution_count": 72,
     "metadata": {},
     "output_type": "execute_result"
    }
   ],
   "source": [
    "# All 0s matrix \n",
    "np.zeros((3,3)) #2D"
   ]
  },
  {
   "cell_type": "code",
   "execution_count": 74,
   "id": "2bc304bb",
   "metadata": {},
   "outputs": [
    {
     "data": {
      "text/plain": [
       "array([[[0., 0., 0.],\n",
       "        [0., 0., 0.]],\n",
       "\n",
       "       [[0., 0., 0.],\n",
       "        [0., 0., 0.]],\n",
       "\n",
       "       [[0., 0., 0.],\n",
       "        [0., 0., 0.]]])"
      ]
     },
     "execution_count": 74,
     "metadata": {},
     "output_type": "execute_result"
    }
   ],
   "source": [
    "# All 0s matrix \n",
    "np.zeros((3,2,3)) #3D"
   ]
  },
  {
   "cell_type": "code",
   "execution_count": 81,
   "id": "5de19728",
   "metadata": {},
   "outputs": [
    {
     "data": {
      "text/plain": [
       "array([[[1., 1., 1., 1.],\n",
       "        [1., 1., 1., 1.]],\n",
       "\n",
       "       [[1., 1., 1., 1.],\n",
       "        [1., 1., 1., 1.]]])"
      ]
     },
     "execution_count": 81,
     "metadata": {},
     "output_type": "execute_result"
    }
   ],
   "source": [
    "# All 1s matrix\n",
    "ones_mx = np.ones((2,2,4), dtype= 'float' #Specifing the Data Type) \n",
    "ones_mx"
   ]
  },
  {
   "cell_type": "code",
   "execution_count": 82,
   "id": "53933df1",
   "metadata": {},
   "outputs": [
    {
     "data": {
      "text/plain": [
       "dtype('float64')"
      ]
     },
     "execution_count": 82,
     "metadata": {},
     "output_type": "execute_result"
    }
   ],
   "source": [
    "ones_mx.dtype"
   ]
  },
  {
   "cell_type": "code",
   "execution_count": 83,
   "id": "fd1676bf",
   "metadata": {},
   "outputs": [
    {
     "data": {
      "text/plain": [
       "array([[23, 23, 23, 23],\n",
       "       [23, 23, 23, 23],\n",
       "       [23, 23, 23, 23]])"
      ]
     },
     "execution_count": 83,
     "metadata": {},
     "output_type": "execute_result"
    }
   ],
   "source": [
    "# Any other number \n",
    "np.full((3,4), 23)"
   ]
  },
  {
   "cell_type": "code",
   "execution_count": 84,
   "id": "d5ac0622",
   "metadata": {},
   "outputs": [
    {
     "data": {
      "text/plain": [
       "array([[[3, 3, 3, 3],\n",
       "        [3, 3, 3, 3]],\n",
       "\n",
       "       [[3, 3, 3, 3],\n",
       "        [3, 3, 3, 3]]])"
      ]
     },
     "execution_count": 84,
     "metadata": {},
     "output_type": "execute_result"
    }
   ],
   "source": [
    "# Any other number (full_like)\n",
    "np.full_like(b, 3)"
   ]
  },
  {
   "cell_type": "code",
   "execution_count": 85,
   "id": "d94baa24",
   "metadata": {},
   "outputs": [
    {
     "data": {
      "text/plain": [
       "array([[0.17683729, 0.71536013],\n",
       "       [0.31638065, 0.1789104 ],\n",
       "       [0.31970794, 0.7986528 ],\n",
       "       [0.24297443, 0.9167917 ]])"
      ]
     },
     "execution_count": 85,
     "metadata": {},
     "output_type": "execute_result"
    }
   ],
   "source": [
    "# Random decimal numbers \n",
    "np.random.rand(4,2)"
   ]
  },
  {
   "cell_type": "code",
   "execution_count": 86,
   "id": "9bd86992",
   "metadata": {},
   "outputs": [
    {
     "data": {
      "text/plain": [
       "array([[2, 0, 8, 7],\n",
       "       [5, 7, 8, 9],\n",
       "       [9, 2, 3, 9]])"
      ]
     },
     "execution_count": 86,
     "metadata": {},
     "output_type": "execute_result"
    }
   ],
   "source": [
    "# Random integer numbers \n",
    "np.random.randint(10, size= (3,4))"
   ]
  },
  {
   "cell_type": "code",
   "execution_count": 87,
   "id": "d77fcc22",
   "metadata": {},
   "outputs": [
    {
     "data": {
      "text/plain": [
       "array([[1., 0., 0.],\n",
       "       [0., 1., 0.],\n",
       "       [0., 0., 1.]])"
      ]
     },
     "execution_count": 87,
     "metadata": {},
     "output_type": "execute_result"
    }
   ],
   "source": [
    "# The identity matrix \n",
    "np.identity(3)"
   ]
  },
  {
   "cell_type": "code",
   "execution_count": 90,
   "id": "eab639ba",
   "metadata": {},
   "outputs": [
    {
     "data": {
      "text/plain": [
       "array([[  23,   10, 2003],\n",
       "       [  23,   10, 2003],\n",
       "       [  23,   10, 2003],\n",
       "       [  23,   10, 2003]])"
      ]
     },
     "execution_count": 90,
     "metadata": {},
     "output_type": "execute_result"
    }
   ],
   "source": [
    "# Repeat array \n",
    "arr = np.array([[23,10,2003]])\n",
    "r1 = np.repeat(arr,4, axis= 0)\n",
    "r1"
   ]
  },
  {
   "cell_type": "markdown",
   "id": "0528460f",
   "metadata": {},
   "source": [
    "### Quiz"
   ]
  },
  {
   "cell_type": "code",
   "execution_count": 96,
   "id": "91070757",
   "metadata": {},
   "outputs": [],
   "source": [
    "# Using all of above make an array that looks like \n",
    "# 1, 1, 1, 1, 1\n",
    "# 1, 0, 0, 0, 1\n",
    "# 1, 0, 9, 0, 1\n",
    "# 1, 0, 0, 0, 1\n",
    "# 1, 1, 1, 1, 1"
   ]
  },
  {
   "cell_type": "code",
   "execution_count": 92,
   "id": "1cfaf0cb",
   "metadata": {},
   "outputs": [
    {
     "data": {
      "text/plain": [
       "array([[1, 1, 1, 1, 1],\n",
       "       [1, 1, 1, 1, 1],\n",
       "       [1, 1, 1, 1, 1],\n",
       "       [1, 1, 1, 1, 1],\n",
       "       [1, 1, 1, 1, 1]])"
      ]
     },
     "execution_count": 92,
     "metadata": {},
     "output_type": "execute_result"
    }
   ],
   "source": [
    "# The long way \n",
    "\n",
    "ex = np.full((5,5), 1)\n",
    "ex"
   ]
  },
  {
   "cell_type": "code",
   "execution_count": 95,
   "id": "d324da1e",
   "metadata": {},
   "outputs": [
    {
     "data": {
      "text/plain": [
       "array([[1, 1, 1, 1, 1],\n",
       "       [1, 0, 0, 0, 1],\n",
       "       [1, 1, 1, 1, 1],\n",
       "       [1, 1, 1, 1, 1],\n",
       "       [1, 1, 1, 1, 1]])"
      ]
     },
     "execution_count": 95,
     "metadata": {},
     "output_type": "execute_result"
    }
   ],
   "source": [
    "ex[1,1:4] = [0]\n",
    "ex"
   ]
  },
  {
   "cell_type": "code",
   "execution_count": 97,
   "id": "9cc90ec1",
   "metadata": {},
   "outputs": [
    {
     "data": {
      "text/plain": [
       "array([[1, 1, 1, 1, 1],\n",
       "       [1, 0, 0, 0, 1],\n",
       "       [1, 1, 1, 1, 1],\n",
       "       [1, 0, 0, 0, 1],\n",
       "       [1, 1, 1, 1, 1]])"
      ]
     },
     "execution_count": 97,
     "metadata": {},
     "output_type": "execute_result"
    }
   ],
   "source": [
    "ex[-2,1:4] = [0]\n",
    "ex"
   ]
  },
  {
   "cell_type": "code",
   "execution_count": 100,
   "id": "99336743",
   "metadata": {},
   "outputs": [
    {
     "data": {
      "text/plain": [
       "array([[1, 1, 1, 1, 1],\n",
       "       [1, 0, 0, 0, 1],\n",
       "       [1, 0, 0, 0, 1],\n",
       "       [1, 0, 0, 0, 1],\n",
       "       [1, 1, 1, 1, 1]])"
      ]
     },
     "execution_count": 100,
     "metadata": {},
     "output_type": "execute_result"
    }
   ],
   "source": [
    "ex[2,1:4] = 0\n",
    "ex"
   ]
  },
  {
   "cell_type": "code",
   "execution_count": 101,
   "id": "2eae34ba",
   "metadata": {},
   "outputs": [
    {
     "data": {
      "text/plain": [
       "array([[1, 1, 1, 1, 1],\n",
       "       [1, 0, 0, 0, 1],\n",
       "       [1, 0, 9, 0, 1],\n",
       "       [1, 0, 0, 0, 1],\n",
       "       [1, 1, 1, 1, 1]])"
      ]
     },
     "execution_count": 101,
     "metadata": {},
     "output_type": "execute_result"
    }
   ],
   "source": [
    "ex[2,2] = 9\n",
    "ex"
   ]
  },
  {
   "cell_type": "code",
   "execution_count": 112,
   "id": "ddc202de",
   "metadata": {},
   "outputs": [
    {
     "data": {
      "text/plain": [
       "array([[1., 1., 1., 1., 1.],\n",
       "       [1., 0., 0., 0., 1.],\n",
       "       [1., 0., 9., 0., 1.],\n",
       "       [1., 0., 0., 0., 1.],\n",
       "       [1., 1., 1., 1., 1.]])"
      ]
     },
     "execution_count": 112,
     "metadata": {},
     "output_type": "execute_result"
    }
   ],
   "source": [
    "# The Fast Way \n",
    "\n",
    "ans = np.ones((5,5))\n",
    "ans\n",
    "\n",
    "z = np.zeros((3,3))\n",
    "z\n",
    "z[1,1] = 9\n",
    "z\n",
    "\n",
    "ans[1:4,1:4] = z\n",
    "ans"
   ]
  },
  {
   "cell_type": "markdown",
   "id": "738a2af9",
   "metadata": {},
   "source": [
    "### Be Careful When Coping Arrays ! "
   ]
  },
  {
   "cell_type": "code",
   "execution_count": 117,
   "id": "28e76161",
   "metadata": {},
   "outputs": [
    {
     "data": {
      "text/plain": [
       "array([  1, 555,   3])"
      ]
     },
     "execution_count": 117,
     "metadata": {},
     "output_type": "execute_result"
    }
   ],
   "source": [
    "a = np.array([1,2,3])\n",
    "b = a # Making a copy of \"a\"\n",
    "# Now if you wanna replace an element on \"b\" array it will be replaced on \"a\" Too \n",
    "# So what can we do ? \n",
    "a = np.array([1,2,3])\n",
    "b = a.copy() #we just add copy() attribute \n",
    "b[1] = 555\n",
    "b"
   ]
  },
  {
   "cell_type": "code",
   "execution_count": 118,
   "id": "30bc5a1b",
   "metadata": {},
   "outputs": [
    {
     "data": {
      "text/plain": [
       "array([1, 2, 3])"
      ]
     },
     "execution_count": 118,
     "metadata": {},
     "output_type": "execute_result"
    }
   ],
   "source": [
    "a "
   ]
  },
  {
   "cell_type": "markdown",
   "id": "5fa77e81",
   "metadata": {},
   "source": [
    "## Mathimatics on NumPy"
   ]
  },
  {
   "cell_type": "code",
   "execution_count": 120,
   "id": "14b090d1",
   "metadata": {},
   "outputs": [
    {
     "name": "stdout",
     "output_type": "stream",
     "text": [
      "[1 2 3 4 5]\n"
     ]
    }
   ],
   "source": [
    "a = np.array([1,2,3,4,5])\n",
    "print(a)"
   ]
  },
  {
   "cell_type": "code",
   "execution_count": 127,
   "id": "7083e9d9",
   "metadata": {},
   "outputs": [
    {
     "name": "stdout",
     "output_type": "stream",
     "text": [
      "[3 4 5 6 7]\n"
     ]
    }
   ],
   "source": [
    "print(a + 2)\n",
    "# It will add 2 to each element \n",
    "# So as the other operators mathimatical operatiors "
   ]
  },
  {
   "cell_type": "code",
   "execution_count": 132,
   "id": "6e796791",
   "metadata": {},
   "outputs": [
    {
     "name": "stdout",
     "output_type": "stream",
     "text": [
      "[11 12 13 14 15]\n"
     ]
    }
   ],
   "source": [
    "# Operations between full arrays\n",
    "b = np.array([10,10,10,10,10])\n",
    "print(a+b)"
   ]
  },
  {
   "cell_type": "code",
   "execution_count": 137,
   "id": "eb6abdb0",
   "metadata": {},
   "outputs": [
    {
     "data": {
      "text/plain": [
       "array([ 1.55740772, -2.18503986, -0.14254654,  1.15782128, -3.38051501])"
      ]
     },
     "execution_count": 137,
     "metadata": {},
     "output_type": "execute_result"
    }
   ],
   "source": [
    "# Take (sin, cos, tan)\n",
    "np.sin(a)\n",
    "np.cos(a)\n",
    "np.tan(a)"
   ]
  },
  {
   "cell_type": "markdown",
   "id": "2f3219b2",
   "metadata": {},
   "source": [
    "## Liner Algebra on NumPy"
   ]
  },
  {
   "cell_type": "code",
   "execution_count": 145,
   "id": "919c3c5c",
   "metadata": {},
   "outputs": [
    {
     "name": "stdout",
     "output_type": "stream",
     "text": [
      "[[1. 1. 1.]\n",
      " [1. 1. 1.]]\n",
      "[[3 3]\n",
      " [3 3]\n",
      " [3 3]]\n"
     ]
    }
   ],
   "source": [
    "a = np.ones((2,3))\n",
    "print(a)\n",
    "\n",
    "b = np.full((3,2), 3)\n",
    "print (b)"
   ]
  },
  {
   "cell_type": "code",
   "execution_count": 150,
   "id": "7152da75",
   "metadata": {},
   "outputs": [
    {
     "data": {
      "text/plain": [
       "array([[9., 9.],\n",
       "       [9., 9.]])"
      ]
     },
     "execution_count": 150,
     "metadata": {},
     "output_type": "execute_result"
    }
   ],
   "source": [
    "np.matmul(a,b)"
   ]
  },
  {
   "cell_type": "code",
   "execution_count": 156,
   "id": "aed86202",
   "metadata": {},
   "outputs": [
    {
     "data": {
      "text/plain": [
       "1.0"
      ]
     },
     "execution_count": 156,
     "metadata": {},
     "output_type": "execute_result"
    }
   ],
   "source": [
    "# Find the determinant \n",
    "c = np.identity(6)\n",
    "np.linalg.det(c)"
   ]
  },
  {
   "cell_type": "markdown",
   "id": "f9156dfc",
   "metadata": {},
   "source": [
    "## Statistics on NumPy \n"
   ]
  },
  {
   "cell_type": "code",
   "execution_count": 172,
   "id": "d5f25ae9",
   "metadata": {},
   "outputs": [
    {
     "name": "stdout",
     "output_type": "stream",
     "text": [
      "{'MIN': 0, 'MAX': 9, 'MID': 6.0, 'STD': 3.362373500305336, 'VAR': 11.305555555555557}\n"
     ]
    }
   ],
   "source": [
    "# MIN, MAX, MID, STD, VAR...etc\n",
    "a = np.random.randint(10, size= (3,4))\n",
    "minimum = np.min(a)\n",
    "maximum = np.max(a)\n",
    "median = np.median(a)\n",
    "standard_deviation = np.std(a)\n",
    "variance = np.var(a)\n",
    "print ({'MIN': minimum, 'MAX': maximum, 'MID': median, 'STD': standard_deviation, 'VAR': variance})"
   ]
  },
  {
   "cell_type": "code",
   "execution_count": 176,
   "id": "f3313373",
   "metadata": {},
   "outputs": [
    {
     "data": {
      "text/plain": [
       "array([[0, 7, 9, 0],\n",
       "       [6, 8, 8, 6],\n",
       "       [6, 1, 0, 7]])"
      ]
     },
     "execution_count": 176,
     "metadata": {},
     "output_type": "execute_result"
    }
   ],
   "source": [
    "a"
   ]
  },
  {
   "cell_type": "code",
   "execution_count": 178,
   "id": "bd9f4e81",
   "metadata": {},
   "outputs": [
    {
     "data": {
      "text/plain": [
       "array([12, 16, 17, 13])"
      ]
     },
     "execution_count": 178,
     "metadata": {},
     "output_type": "execute_result"
    }
   ],
   "source": [
    "# Sum all of the elements on the array by column \"Columns Total\"\n",
    "np.sum(a, axis= 0)"
   ]
  },
  {
   "cell_type": "markdown",
   "id": "9ab3a208",
   "metadata": {},
   "source": [
    "## Reorganizing Arrays "
   ]
  },
  {
   "cell_type": "code",
   "execution_count": 188,
   "id": "bc9058a3",
   "metadata": {},
   "outputs": [
    {
     "name": "stdout",
     "output_type": "stream",
     "text": [
      "[[1 2 3 4]\n",
      " [5 6 7 8]]\n",
      "[[1 2]\n",
      " [3 4]\n",
      " [5 6]\n",
      " [7 8]]\n"
     ]
    }
   ],
   "source": [
    "before = np.array([[1,2,3,4],[5,6,7,8]])\n",
    "print(before)\n",
    "\n",
    "after = before.reshape(4,2)\n",
    "print(after)"
   ]
  },
  {
   "cell_type": "code",
   "execution_count": 195,
   "id": "ae30cf15",
   "metadata": {},
   "outputs": [
    {
     "data": {
      "text/plain": [
       "array([[ 1,  2,  3,  4,  5],\n",
       "       [ 6,  7,  8,  9, 10]])"
      ]
     },
     "execution_count": 195,
     "metadata": {},
     "output_type": "execute_result"
    }
   ],
   "source": [
    "# Vertically staking vectors \n",
    "v1 = np.array([1,2,3,4,5])\n",
    "v2 = np.array([6,7,8,9,10])\n",
    "\n",
    "np.vstack([v1,v2])"
   ]
  },
  {
   "cell_type": "code",
   "execution_count": 196,
   "id": "212fec34",
   "metadata": {},
   "outputs": [
    {
     "data": {
      "text/plain": [
       "array([ 1,  2,  3,  4,  5,  6,  7,  8,  9, 10])"
      ]
     },
     "execution_count": 196,
     "metadata": {},
     "output_type": "execute_result"
    }
   ],
   "source": [
    "# Horizontally staking vectors \n",
    "h1 = np.array([1,2,3,4,5])\n",
    "h2 = np.array([6,7,8,9,10])\n",
    "\n",
    "np.hstack([h1,h2])"
   ]
  },
  {
   "cell_type": "markdown",
   "id": "b3d88c45",
   "metadata": {},
   "source": [
    "## Miscellaneous"
   ]
  },
  {
   "cell_type": "markdown",
   "id": "7d53dddc",
   "metadata": {},
   "source": [
    "#### Load Data from File "
   ]
  },
  {
   "cell_type": "code",
   "execution_count": 210,
   "id": "3b6e43d6",
   "metadata": {},
   "outputs": [
    {
     "name": "stdout",
     "output_type": "stream",
     "text": [
      "[[0 4 4 2 2 1 4 0 0 0]\n",
      " [2 2 3 1 2 4 4 0 2 2]\n",
      " [1 3 1 3 0 2 1 1 3 0]\n",
      " [4 4 1 3 3 0 2 0 3 2]]\n"
     ]
    }
   ],
   "source": [
    "loaded = np.genfromtxt(r\"C:\\Users\\media\\Desktop\\ArrayToImport.txt\", delimiter= ',', dtype= 'int')\n",
    "print(loaded)"
   ]
  },
  {
   "cell_type": "markdown",
   "id": "08784ca3",
   "metadata": {},
   "source": [
    "## Boolean Masking and Advanced Indexing "
   ]
  },
  {
   "cell_type": "code",
   "execution_count": 214,
   "id": "ba85eeb8",
   "metadata": {},
   "outputs": [
    {
     "name": "stdout",
     "output_type": "stream",
     "text": [
      "[4 4 4 3 4 4 3 3 3 4 4 3 3 3]\n"
     ]
    }
   ],
   "source": [
    "ar = loaded[loaded > 2]\n",
    "print(ar)"
   ]
  },
  {
   "cell_type": "code",
   "execution_count": 225,
   "id": "7a20130c",
   "metadata": {},
   "outputs": [
    {
     "data": {
      "text/plain": [
       "array([ True,  True,  True,  True,  True,  True,  True, False,  True,\n",
       "       False])"
      ]
     },
     "execution_count": 225,
     "metadata": {},
     "output_type": "execute_result"
    }
   ],
   "source": [
    "np.any(loaded>2, axis= 0)"
   ]
  },
  {
   "cell_type": "code",
   "execution_count": 224,
   "id": "212ab1a5",
   "metadata": {},
   "outputs": [
    {
     "data": {
      "text/plain": [
       "array([ 2,  6, 11,  8])"
      ]
     },
     "execution_count": 224,
     "metadata": {},
     "output_type": "execute_result"
    }
   ],
   "source": [
    "# You also can index with a list in NumPy\n",
    "a = np.array([1,2,3,8,9,10,11,12,4,5,6,7,8,9,10,11,12,13,14])\n",
    "a[[1,10,6,12]]"
   ]
  },
  {
   "cell_type": "code",
   "execution_count": 229,
   "id": "c0f2144a",
   "metadata": {},
   "outputs": [
    {
     "name": "stdout",
     "output_type": "stream",
     "text": [
      "[[False False False  True  True False False False False False]\n",
      " [ True  True False False  True False False False  True  True]\n",
      " [False False False False False  True False False False False]\n",
      " [False False False False False False  True False False  True]]\n",
      "[[ True  True  True False False  True  True  True  True  True]\n",
      " [False False  True  True False  True  True  True False False]\n",
      " [ True  True  True  True  True False  True  True  True  True]\n",
      " [ True  True  True  True  True  True False  True  True False]]\n"
     ]
    }
   ],
   "source": [
    "# Conditional Indeixing \n",
    "n = ((loaded < 3) & (loaded > 1))\n",
    "print(n)\n",
    "# Reverse \n",
    "r = (~((loaded < 3) & (loaded > 1)))\n",
    "print(r)"
   ]
  },
  {
   "cell_type": "markdown",
   "id": "fa3b4f68",
   "metadata": {},
   "source": [
    "## Final Quiz \n"
   ]
  },
  {
   "cell_type": "code",
   "execution_count": 244,
   "id": "30bc33fe",
   "metadata": {},
   "outputs": [
    {
     "data": {
      "text/plain": [
       "array([[ 1,  2,  3,  4,  5],\n",
       "       [ 6,  7,  8,  9, 10],\n",
       "       [11, 12, 13, 14, 15],\n",
       "       [16, 17, 18, 19, 20],\n",
       "       [21, 22, 23, 24, 25],\n",
       "       [26, 27, 28, 29, 30]])"
      ]
     },
     "execution_count": 244,
     "metadata": {},
     "output_type": "execute_result"
    }
   ],
   "source": [
    "# Using all of above make an array that looks like \n",
    "a= np.array([[1,2,3,4,5], [6,7,8,9,10],[11,12,13,14,15],[16,17,18,19,20],[21,22,23,24,25], [26,27,28,29,30]])\n",
    "a"
   ]
  },
  {
   "cell_type": "code",
   "execution_count": 245,
   "id": "2471eaaa",
   "metadata": {},
   "outputs": [
    {
     "data": {
      "text/plain": [
       "array([[11, 12],\n",
       "       [16, 17]])"
      ]
     },
     "execution_count": 245,
     "metadata": {},
     "output_type": "execute_result"
    }
   ],
   "source": [
    "a[2:4, 0:2]"
   ]
  },
  {
   "cell_type": "code",
   "execution_count": 246,
   "id": "697ee833",
   "metadata": {},
   "outputs": [
    {
     "data": {
      "text/plain": [
       "array([ 2,  8, 14, 20])"
      ]
     },
     "execution_count": 246,
     "metadata": {},
     "output_type": "execute_result"
    }
   ],
   "source": [
    "a[[0,1,2,3],[1,2,3,4]]"
   ]
  },
  {
   "cell_type": "code",
   "execution_count": 254,
   "id": "d7ccd390",
   "metadata": {},
   "outputs": [
    {
     "data": {
      "text/plain": [
       "array([[ 4,  5],\n",
       "       [24, 25],\n",
       "       [29, 30]])"
      ]
     },
     "execution_count": 254,
     "metadata": {},
     "output_type": "execute_result"
    }
   ],
   "source": [
    "a[[0,4,5],3:]"
   ]
  },
  {
   "cell_type": "code",
   "execution_count": 257,
   "id": "cc1209cb",
   "metadata": {},
   "outputs": [],
   "source": [
    "# My Linkedin Account: https://www.linkedin.com/in/yousef-elbehiry\n",
    "# Maven Analytics: https://mavenanalytics.io/profile/Yousef-Elbehiry/181994400"
   ]
  },
  {
   "cell_type": "code",
   "execution_count": null,
   "id": "e15c4380",
   "metadata": {},
   "outputs": [],
   "source": []
  }
 ],
 "metadata": {
  "kernelspec": {
   "display_name": "Python 3 (ipykernel)",
   "language": "python",
   "name": "python3"
  },
  "language_info": {
   "codemirror_mode": {
    "name": "ipython",
    "version": 3
   },
   "file_extension": ".py",
   "mimetype": "text/x-python",
   "name": "python",
   "nbconvert_exporter": "python",
   "pygments_lexer": "ipython3",
   "version": "3.11.4"
  }
 },
 "nbformat": 4,
 "nbformat_minor": 5
}
